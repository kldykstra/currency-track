{
 "cells": [
  {
   "cell_type": "markdown",
   "id": "a4988264",
   "metadata": {},
   "source": [
    "# European Central Bank Exchange Rates Analysis\n",
    "\n",
    "The purpose of this notebook is to explore the integrity of the daily exchange\n",
    "rate data files published by the ECB. Specifically, we want to understand if the\n",
    "data is sufficient to fulfill the goal of intelligently timing the exchange of\n",
    "currency between countries as an individual with a presence both in and outside\n",
    "the EU. \n",
    "\n",
    "Specifically, we want to know:\n",
    "\n",
    "* What is the current exchange rate?\n",
    "* What is the recent trend in the exchange rate?\n",
    "* How does the current exchange rate compare to the historical exchange rate a week, month, and year ago?\n"
   ]
  },
  {
   "cell_type": "code",
   "execution_count": 1,
   "id": "d3d6ae81",
   "metadata": {},
   "outputs": [],
   "source": [
    "import holidays\n",
    "import pandas as pd\n",
    "import seaborn as sns"
   ]
  },
  {
   "cell_type": "code",
   "execution_count": 46,
   "id": "44d20e92",
   "metadata": {},
   "outputs": [],
   "source": [
    "df = pd.read_csv('./eurofxref-hist.csv')\n",
    "# convert Date to datetime\n",
    "df['Date'] = pd.to_datetime(df['Date'])\n",
    "df = df.set_index('Date')\\\n",
    "    .sort_index(ascending=True)"
   ]
  },
  {
   "cell_type": "code",
   "execution_count": 47,
   "id": "f859b0c7",
   "metadata": {},
   "outputs": [
    {
     "data": {
      "text/html": [
       "<div>\n",
       "<style scoped>\n",
       "    .dataframe tbody tr th:only-of-type {\n",
       "        vertical-align: middle;\n",
       "    }\n",
       "\n",
       "    .dataframe tbody tr th {\n",
       "        vertical-align: top;\n",
       "    }\n",
       "\n",
       "    .dataframe thead th {\n",
       "        text-align: right;\n",
       "    }\n",
       "</style>\n",
       "<table border=\"1\" class=\"dataframe\">\n",
       "  <thead>\n",
       "    <tr style=\"text-align: right;\">\n",
       "      <th></th>\n",
       "      <th>USD</th>\n",
       "      <th>JPY</th>\n",
       "      <th>BGN</th>\n",
       "      <th>CYP</th>\n",
       "      <th>CZK</th>\n",
       "      <th>DKK</th>\n",
       "      <th>EEK</th>\n",
       "      <th>GBP</th>\n",
       "      <th>HUF</th>\n",
       "      <th>LTL</th>\n",
       "      <th>...</th>\n",
       "      <th>INR</th>\n",
       "      <th>KRW</th>\n",
       "      <th>MXN</th>\n",
       "      <th>MYR</th>\n",
       "      <th>NZD</th>\n",
       "      <th>PHP</th>\n",
       "      <th>SGD</th>\n",
       "      <th>THB</th>\n",
       "      <th>ZAR</th>\n",
       "      <th>Unnamed: 42</th>\n",
       "    </tr>\n",
       "    <tr>\n",
       "      <th>Date</th>\n",
       "      <th></th>\n",
       "      <th></th>\n",
       "      <th></th>\n",
       "      <th></th>\n",
       "      <th></th>\n",
       "      <th></th>\n",
       "      <th></th>\n",
       "      <th></th>\n",
       "      <th></th>\n",
       "      <th></th>\n",
       "      <th></th>\n",
       "      <th></th>\n",
       "      <th></th>\n",
       "      <th></th>\n",
       "      <th></th>\n",
       "      <th></th>\n",
       "      <th></th>\n",
       "      <th></th>\n",
       "      <th></th>\n",
       "      <th></th>\n",
       "      <th></th>\n",
       "    </tr>\n",
       "  </thead>\n",
       "  <tbody>\n",
       "    <tr>\n",
       "      <th>1999-01-04</th>\n",
       "      <td>1.1789</td>\n",
       "      <td>133.73</td>\n",
       "      <td>NaN</td>\n",
       "      <td>0.58231</td>\n",
       "      <td>35.107</td>\n",
       "      <td>7.4501</td>\n",
       "      <td>15.6466</td>\n",
       "      <td>0.71110</td>\n",
       "      <td>251.48</td>\n",
       "      <td>4.7170</td>\n",
       "      <td>...</td>\n",
       "      <td>NaN</td>\n",
       "      <td>1398.59</td>\n",
       "      <td>NaN</td>\n",
       "      <td>NaN</td>\n",
       "      <td>2.2229</td>\n",
       "      <td>NaN</td>\n",
       "      <td>1.9554</td>\n",
       "      <td>NaN</td>\n",
       "      <td>6.9358</td>\n",
       "      <td>NaN</td>\n",
       "    </tr>\n",
       "    <tr>\n",
       "      <th>1999-01-05</th>\n",
       "      <td>1.1790</td>\n",
       "      <td>130.96</td>\n",
       "      <td>NaN</td>\n",
       "      <td>0.58230</td>\n",
       "      <td>34.917</td>\n",
       "      <td>7.4495</td>\n",
       "      <td>15.6466</td>\n",
       "      <td>0.71220</td>\n",
       "      <td>250.80</td>\n",
       "      <td>4.7174</td>\n",
       "      <td>...</td>\n",
       "      <td>NaN</td>\n",
       "      <td>1373.01</td>\n",
       "      <td>NaN</td>\n",
       "      <td>NaN</td>\n",
       "      <td>2.2011</td>\n",
       "      <td>NaN</td>\n",
       "      <td>1.9655</td>\n",
       "      <td>NaN</td>\n",
       "      <td>6.7975</td>\n",
       "      <td>NaN</td>\n",
       "    </tr>\n",
       "    <tr>\n",
       "      <th>1999-01-06</th>\n",
       "      <td>1.1743</td>\n",
       "      <td>131.42</td>\n",
       "      <td>NaN</td>\n",
       "      <td>0.58200</td>\n",
       "      <td>34.850</td>\n",
       "      <td>7.4452</td>\n",
       "      <td>15.6466</td>\n",
       "      <td>0.70760</td>\n",
       "      <td>250.67</td>\n",
       "      <td>4.6994</td>\n",
       "      <td>...</td>\n",
       "      <td>NaN</td>\n",
       "      <td>1359.54</td>\n",
       "      <td>NaN</td>\n",
       "      <td>NaN</td>\n",
       "      <td>2.1890</td>\n",
       "      <td>NaN</td>\n",
       "      <td>1.9699</td>\n",
       "      <td>NaN</td>\n",
       "      <td>6.7307</td>\n",
       "      <td>NaN</td>\n",
       "    </tr>\n",
       "    <tr>\n",
       "      <th>1999-01-07</th>\n",
       "      <td>1.1632</td>\n",
       "      <td>129.43</td>\n",
       "      <td>NaN</td>\n",
       "      <td>0.58187</td>\n",
       "      <td>34.886</td>\n",
       "      <td>7.4431</td>\n",
       "      <td>15.6466</td>\n",
       "      <td>0.70585</td>\n",
       "      <td>250.09</td>\n",
       "      <td>4.6548</td>\n",
       "      <td>...</td>\n",
       "      <td>NaN</td>\n",
       "      <td>1337.16</td>\n",
       "      <td>NaN</td>\n",
       "      <td>NaN</td>\n",
       "      <td>2.1531</td>\n",
       "      <td>NaN</td>\n",
       "      <td>1.9436</td>\n",
       "      <td>NaN</td>\n",
       "      <td>6.8283</td>\n",
       "      <td>NaN</td>\n",
       "    </tr>\n",
       "    <tr>\n",
       "      <th>1999-01-08</th>\n",
       "      <td>1.1659</td>\n",
       "      <td>130.09</td>\n",
       "      <td>NaN</td>\n",
       "      <td>0.58187</td>\n",
       "      <td>34.938</td>\n",
       "      <td>7.4433</td>\n",
       "      <td>15.6466</td>\n",
       "      <td>0.70940</td>\n",
       "      <td>250.15</td>\n",
       "      <td>4.6643</td>\n",
       "      <td>...</td>\n",
       "      <td>NaN</td>\n",
       "      <td>1366.73</td>\n",
       "      <td>NaN</td>\n",
       "      <td>NaN</td>\n",
       "      <td>2.1557</td>\n",
       "      <td>NaN</td>\n",
       "      <td>1.9537</td>\n",
       "      <td>NaN</td>\n",
       "      <td>6.7855</td>\n",
       "      <td>NaN</td>\n",
       "    </tr>\n",
       "  </tbody>\n",
       "</table>\n",
       "<p>5 rows × 42 columns</p>\n",
       "</div>"
      ],
      "text/plain": [
       "               USD     JPY  BGN      CYP     CZK     DKK      EEK      GBP  \\\n",
       "Date                                                                         \n",
       "1999-01-04  1.1789  133.73  NaN  0.58231  35.107  7.4501  15.6466  0.71110   \n",
       "1999-01-05  1.1790  130.96  NaN  0.58230  34.917  7.4495  15.6466  0.71220   \n",
       "1999-01-06  1.1743  131.42  NaN  0.58200  34.850  7.4452  15.6466  0.70760   \n",
       "1999-01-07  1.1632  129.43  NaN  0.58187  34.886  7.4431  15.6466  0.70585   \n",
       "1999-01-08  1.1659  130.09  NaN  0.58187  34.938  7.4433  15.6466  0.70940   \n",
       "\n",
       "               HUF     LTL  ...  INR      KRW  MXN  MYR     NZD  PHP     SGD  \\\n",
       "Date                        ...                                                \n",
       "1999-01-04  251.48  4.7170  ...  NaN  1398.59  NaN  NaN  2.2229  NaN  1.9554   \n",
       "1999-01-05  250.80  4.7174  ...  NaN  1373.01  NaN  NaN  2.2011  NaN  1.9655   \n",
       "1999-01-06  250.67  4.6994  ...  NaN  1359.54  NaN  NaN  2.1890  NaN  1.9699   \n",
       "1999-01-07  250.09  4.6548  ...  NaN  1337.16  NaN  NaN  2.1531  NaN  1.9436   \n",
       "1999-01-08  250.15  4.6643  ...  NaN  1366.73  NaN  NaN  2.1557  NaN  1.9537   \n",
       "\n",
       "            THB     ZAR  Unnamed: 42  \n",
       "Date                                  \n",
       "1999-01-04  NaN  6.9358          NaN  \n",
       "1999-01-05  NaN  6.7975          NaN  \n",
       "1999-01-06  NaN  6.7307          NaN  \n",
       "1999-01-07  NaN  6.8283          NaN  \n",
       "1999-01-08  NaN  6.7855          NaN  \n",
       "\n",
       "[5 rows x 42 columns]"
      ]
     },
     "execution_count": 47,
     "metadata": {},
     "output_type": "execute_result"
    }
   ],
   "source": [
    "df.head()"
   ]
  },
  {
   "cell_type": "code",
   "execution_count": 48,
   "id": "b9e002fc",
   "metadata": {},
   "outputs": [
    {
     "name": "stdout",
     "output_type": "stream",
     "text": [
      "Earliest date: 1999-01-04 00:00:00\n",
      "Latest date: 2025-07-31 00:00:00\n"
     ]
    }
   ],
   "source": [
    "# get the earliest and latest date \n",
    "earliest_date = df.index.min()\n",
    "latest_date = df.index.max()\n",
    "\n",
    "print(f\"Earliest date: {earliest_date}\")\n",
    "print(f\"Latest date: {latest_date}\")"
   ]
  },
  {
   "cell_type": "markdown",
   "id": "4e586d60",
   "metadata": {},
   "source": [
    "# Q: How complete and clean is the data?\n",
    "\n",
    "It's important to know the level of cleaning and preprocessing that will be\n",
    "required to make the data analysis-ready. If it's extensive, we'd consider\n",
    "introducing an ETL/ELT tool like dbt into the tech stack.\n",
    "\n",
    "Completeness is also important to know whether the data is good enough for the use\n",
    "case."
   ]
  },
  {
   "cell_type": "markdown",
   "id": "e876d06c",
   "metadata": {},
   "source": [
    "### Check data types\n",
    "\n",
    "If there are mixed number formats in a single column in the input\n",
    "data, pandas will load it as an object.\n",
    "\n",
    "In our case, we see no issues as all columns except Date are floats (numeric)."
   ]
  },
  {
   "cell_type": "code",
   "execution_count": 49,
   "id": "76bb869b",
   "metadata": {},
   "outputs": [
    {
     "data": {
      "text/plain": [
       "float64    42\n",
       "Name: count, dtype: int64"
      ]
     },
     "execution_count": 49,
     "metadata": {},
     "output_type": "execute_result"
    }
   ],
   "source": [
    "df.dtypes.value_counts()"
   ]
  },
  {
   "cell_type": "markdown",
   "id": "ef335e7a",
   "metadata": {},
   "source": [
    "### Check currency names\n",
    "\n",
    "Look for malformed currrency codes.\n",
    "\n",
    "In this case, it looks like the last column is problematic."
   ]
  },
  {
   "cell_type": "code",
   "execution_count": 71,
   "id": "a330f254",
   "metadata": {},
   "outputs": [
    {
     "data": {
      "text/plain": [
       "Index(['USD', 'JPY', 'BGN', 'CYP', 'CZK', 'DKK', 'EEK', 'GBP', 'HUF', 'LTL',\n",
       "       'LVL', 'MTL', 'PLN', 'ROL', 'RON', 'SEK', 'SIT', 'SKK', 'CHF', 'ISK',\n",
       "       'NOK', 'HRK', 'RUB', 'TRL', 'TRY', 'AUD', 'BRL', 'CAD', 'CNY', 'HKD',\n",
       "       'IDR', 'ILS', 'INR', 'KRW', 'MXN', 'MYR', 'NZD', 'PHP', 'SGD', 'THB',\n",
       "       'ZAR', 'Unnamed: 42'],\n",
       "      dtype='object')"
      ]
     },
     "execution_count": 71,
     "metadata": {},
     "output_type": "execute_result"
    }
   ],
   "source": [
    "df.columns"
   ]
  },
  {
   "cell_type": "code",
   "execution_count": 73,
   "id": "e6180124",
   "metadata": {},
   "outputs": [
    {
     "data": {
      "text/plain": [
       "np.int64(6806)"
      ]
     },
     "execution_count": 73,
     "metadata": {},
     "output_type": "execute_result"
    }
   ],
   "source": [
    "df['Unnamed: 42'].isnull().sum()"
   ]
  },
  {
   "cell_type": "code",
   "execution_count": 74,
   "id": "52cbc5d3",
   "metadata": {},
   "outputs": [
    {
     "data": {
      "text/plain": [
       "(6806, 42)"
      ]
     },
     "execution_count": 74,
     "metadata": {},
     "output_type": "execute_result"
    }
   ],
   "source": [
    "df.shape"
   ]
  },
  {
   "cell_type": "markdown",
   "id": "81dade00",
   "metadata": {},
   "source": [
    "It appears that there's a useless all-null column loaded at the end of the dataframe.\n",
    "\n",
    "To handle this we remove all columns that are 100% null. This step will need to\n",
    "be implemented in the automated data flow."
   ]
  },
  {
   "cell_type": "code",
   "execution_count": 75,
   "id": "af2e64a7",
   "metadata": {},
   "outputs": [],
   "source": [
    "null_columns = df.columns[df.isnull().all()]\n",
    "df = df.drop(columns=null_columns)"
   ]
  },
  {
   "cell_type": "code",
   "execution_count": 76,
   "id": "75bd6779",
   "metadata": {},
   "outputs": [
    {
     "data": {
      "text/plain": [
       "(6806, 41)"
      ]
     },
     "execution_count": 76,
     "metadata": {},
     "output_type": "execute_result"
    }
   ],
   "source": [
    "df.shape"
   ]
  },
  {
   "cell_type": "markdown",
   "id": "48a2e78b",
   "metadata": {},
   "source": [
    "### Check null values\n",
    "\n",
    "Look for missing values."
   ]
  },
  {
   "cell_type": "code",
   "execution_count": 77,
   "id": "50625ef5",
   "metadata": {},
   "outputs": [
    {
     "data": {
      "text/plain": [
       "USD       0\n",
       "JPY       0\n",
       "BGN     398\n",
       "CYP    4502\n",
       "CZK       0\n",
       "DKK       0\n",
       "EEK    3732\n",
       "GBP       0\n",
       "HUF       0\n",
       "LTL    2709\n",
       "LVL    2964\n",
       "MTL    4502\n",
       "PLN       0\n",
       "ROL    5142\n",
       "RON    1664\n",
       "SEK       0\n",
       "SIT    4757\n",
       "SKK    4246\n",
       "CHF       0\n",
       "ISK    2341\n",
       "NOK       0\n",
       "HRK    2258\n",
       "RUB    2473\n",
       "TRL    5269\n",
       "TRY    1537\n",
       "AUD       0\n",
       "BRL    2304\n",
       "CAD       0\n",
       "CNY    1599\n",
       "HKD       0\n",
       "IDR    1599\n",
       "ILS    3074\n",
       "INR    2560\n",
       "KRW       0\n",
       "MXN    2304\n",
       "MYR    1599\n",
       "NZD       0\n",
       "PHP    1599\n",
       "SGD       0\n",
       "THB    1599\n",
       "ZAR       0\n",
       "dtype: int64"
      ]
     },
     "execution_count": 77,
     "metadata": {},
     "output_type": "execute_result"
    }
   ],
   "source": [
    "df.isnull().sum()"
   ]
  },
  {
   "cell_type": "markdown",
   "id": "2b77152d",
   "metadata": {},
   "source": [
    "Quite a few currencies have missing values. However, this could be due to a\n",
    "currency starting or stopping as countries join the Eurozone, or inclusion/removal\n",
    "from ECB's tracking.\n",
    "\n",
    "Let's look at Croatia (HRK) as an example, since they didn't change to the Euro\n",
    "until 2023."
   ]
  },
  {
   "cell_type": "code",
   "execution_count": 78,
   "id": "0af63504",
   "metadata": {},
   "outputs": [
    {
     "data": {
      "text/plain": [
       "Text(0.5, 1.0, 'EUR to HRK (Croatia)')"
      ]
     },
     "execution_count": 78,
     "metadata": {},
     "output_type": "execute_result"
    },
    {
     "data": {
      "image/png": "[encoded data removed]",
      "text/plain": [
       "<Figure size 640x480 with 1 Axes>"
      ]
     },
     "metadata": {},
     "output_type": "display_data"
    }
   ],
   "source": [
    "ax = sns.scatterplot(data=df, x='Date', y='HRK')\n",
    "# adjust x-axis to be from min to max date\n",
    "ax.set_xlim(earliest_date, latest_date)\n",
    "ax.set_title('EUR to HRK (Croatia)')"
   ]
  },
  {
   "cell_type": "markdown",
   "id": "54d7946a",
   "metadata": {},
   "source": [
    "ECB started tracking HRK when Croatia became a candidate to join the EU in 2004,\n",
    "and stopped once Croatia adopted the Euro in 2023. Therefore, the null values\n",
    "are on both sides of this tracking period.\n",
    "\n",
    "These null values are **not** problematic. However, we want to confirm there\n",
    "aren't null values during an official period of exchange rate tracking. We'll\n",
    "take a look at the gaps between non-null values."
   ]
  },
  {
   "cell_type": "code",
   "execution_count": 85,
   "id": "03cfd2c3",
   "metadata": {},
   "outputs": [
    {
     "name": "stderr",
     "output_type": "stream",
     "text": [
      "/var/folders/b2/2tzxb8bj0ljd8ppbc3zkpb8c0000gp/T/ipykernel_4571/307741685.py:29: FutureWarning: The behavior of DataFrame concatenation with empty or all-NA entries is deprecated. In a future version, this will no longer exclude empty or all-NA columns when determining the result dtypes. To retain the old behavior, exclude the relevant entries before the concat operation.\n",
      "  currency_gap_distribution = pd.concat([\n"
     ]
    }
   ],
   "source": [
    "currency_gap_distribution = pd.DataFrame(columns=['currency', 'gap', 'count'])\n",
    "\n",
    "for currency in df.columns.unique():\n",
    "    nonnull_series = df[df[currency].notna()][currency]\n",
    "\n",
    "    extract_days = lambda x: x.total_seconds() / (60 * 60 * 24)\n",
    "\n",
    "    # take German plust French holidays as representative - mark the day after the holiday ends\n",
    "    min_year = nonnull_series.index.min().year\n",
    "    max_year = nonnull_series.index.max().year\n",
    "    year_range = range(min_year, max_year)\n",
    "    german_holidays_dates = set(holidays.DE(years=year_range).keys()) | \\\n",
    "        set(holidays.FR(years=year_range).keys())\n",
    "    day_after_holiday = []\n",
    "    for holiday in german_holidays_dates:\n",
    "        next_dates = nonnull_series.index[nonnull_series.index > pd.Timestamp(holiday)]\n",
    "        if len(next_dates) > 0:\n",
    "            day_after_holiday.append(next_dates[0])\n",
    "    day_after_holiday = pd.to_datetime(day_after_holiday)\n",
    "\n",
    "    gaps = nonnull_series.index.to_series().diff().apply(extract_days)\n",
    "    gaps = gaps[\n",
    "        # remove weekends\n",
    "        ~((gaps == 3) & (gaps.index.dayofweek == 0))\n",
    "        # remove gaps where it's the day after a holiday\n",
    "        & ~gaps.index.isin(day_after_holiday)\n",
    "    ]\n",
    "    gap_counts = gaps.value_counts()\n",
    "    currency_gap_distribution = pd.concat([\n",
    "        currency_gap_distribution,\n",
    "        pd.DataFrame({\n",
    "            'currency': currency,\n",
    "            'gap': gap_counts.index,\n",
    "            'count': gap_counts.values\n",
    "        })\n",
    "    ])"
   ]
  },
  {
   "cell_type": "code",
   "execution_count": 86,
   "id": "1fe504df",
   "metadata": {},
   "outputs": [],
   "source": [
    "agg_currency_gap_dist = currency_gap_distribution.groupby('gap')['count'].sum()\\\n",
    "    .reset_index()\n",
    "agg_currency_gap_dist['percentage'] = agg_currency_gap_dist['count'] / \\\n",
    "    agg_currency_gap_dist['count'].sum() * 100"
   ]
  },
  {
   "cell_type": "code",
   "execution_count": 87,
   "id": "58a1539b",
   "metadata": {},
   "outputs": [
    {
     "data": {
      "text/html": [
       "<div>\n",
       "<style scoped>\n",
       "    .dataframe tbody tr th:only-of-type {\n",
       "        vertical-align: middle;\n",
       "    }\n",
       "\n",
       "    .dataframe tbody tr th {\n",
       "        vertical-align: top;\n",
       "    }\n",
       "\n",
       "    .dataframe thead th {\n",
       "        text-align: right;\n",
       "    }\n",
       "</style>\n",
       "<table border=\"1\" class=\"dataframe\">\n",
       "  <thead>\n",
       "    <tr style=\"text-align: right;\">\n",
       "      <th></th>\n",
       "      <th>gap</th>\n",
       "      <th>count</th>\n",
       "      <th>percentage</th>\n",
       "    </tr>\n",
       "  </thead>\n",
       "  <tbody>\n",
       "    <tr>\n",
       "      <th>0</th>\n",
       "      <td>1.0</td>\n",
       "      <td>163654</td>\n",
       "      <td>99.926728</td>\n",
       "    </tr>\n",
       "    <tr>\n",
       "      <th>1</th>\n",
       "      <td>2.0</td>\n",
       "      <td>69</td>\n",
       "      <td>0.042131</td>\n",
       "    </tr>\n",
       "    <tr>\n",
       "      <th>2</th>\n",
       "      <td>3.0</td>\n",
       "      <td>3</td>\n",
       "      <td>0.001832</td>\n",
       "    </tr>\n",
       "    <tr>\n",
       "      <th>3</th>\n",
       "      <td>4.0</td>\n",
       "      <td>5</td>\n",
       "      <td>0.003053</td>\n",
       "    </tr>\n",
       "    <tr>\n",
       "      <th>4</th>\n",
       "      <td>5.0</td>\n",
       "      <td>43</td>\n",
       "      <td>0.026256</td>\n",
       "    </tr>\n",
       "  </tbody>\n",
       "</table>\n",
       "</div>"
      ],
      "text/plain": [
       "   gap   count percentage\n",
       "0  1.0  163654  99.926728\n",
       "1  2.0      69   0.042131\n",
       "2  3.0       3   0.001832\n",
       "3  4.0       5   0.003053\n",
       "4  5.0      43   0.026256"
      ]
     },
     "execution_count": 87,
     "metadata": {},
     "output_type": "execute_result"
    }
   ],
   "source": [
    "agg_currency_gap_dist"
   ]
  },
  {
   "cell_type": "markdown",
   "id": "7105f2c3",
   "metadata": {},
   "source": [
    "After accounting for weekends and holidays, there are very rare gaps (less than .1%).\n",
    "\n",
    "This dataset it quite reliably collected with few gaps. We should note that\n",
    "there will instances where an exchange rate isn't collected for up to 5 days."
   ]
  },
  {
   "cell_type": "markdown",
   "id": "90cc348d",
   "metadata": {},
   "source": [
    "# Q: Can we answer our business questions with the data?\n",
    "\n",
    "Remember the questions we laid out:\n",
    "\n",
    "* What is the current exchange rate?\n",
    "* What is the recent trend in the exchange rate?\n",
    "* How does the current exchange rate compare to the historical exchange rate a week, month, and year ago?"
   ]
  },
  {
   "cell_type": "markdown",
   "id": "a900932d",
   "metadata": {},
   "source": [
    "The first question is easy - **what is the current exchange rate?** We see the\n",
    "dataset has conversion rates per date and currency."
   ]
  },
  {
   "cell_type": "code",
   "execution_count": 88,
   "id": "108be0c3",
   "metadata": {},
   "outputs": [
    {
     "data": {
      "text/html": [
       "<div>\n",
       "<style scoped>\n",
       "    .dataframe tbody tr th:only-of-type {\n",
       "        vertical-align: middle;\n",
       "    }\n",
       "\n",
       "    .dataframe tbody tr th {\n",
       "        vertical-align: top;\n",
       "    }\n",
       "\n",
       "    .dataframe thead th {\n",
       "        text-align: right;\n",
       "    }\n",
       "</style>\n",
       "<table border=\"1\" class=\"dataframe\">\n",
       "  <thead>\n",
       "    <tr style=\"text-align: right;\">\n",
       "      <th></th>\n",
       "      <th>USD</th>\n",
       "      <th>JPY</th>\n",
       "      <th>BGN</th>\n",
       "      <th>CYP</th>\n",
       "      <th>CZK</th>\n",
       "      <th>DKK</th>\n",
       "      <th>EEK</th>\n",
       "      <th>GBP</th>\n",
       "      <th>HUF</th>\n",
       "      <th>LTL</th>\n",
       "      <th>...</th>\n",
       "      <th>ILS</th>\n",
       "      <th>INR</th>\n",
       "      <th>KRW</th>\n",
       "      <th>MXN</th>\n",
       "      <th>MYR</th>\n",
       "      <th>NZD</th>\n",
       "      <th>PHP</th>\n",
       "      <th>SGD</th>\n",
       "      <th>THB</th>\n",
       "      <th>ZAR</th>\n",
       "    </tr>\n",
       "    <tr>\n",
       "      <th>Date</th>\n",
       "      <th></th>\n",
       "      <th></th>\n",
       "      <th></th>\n",
       "      <th></th>\n",
       "      <th></th>\n",
       "      <th></th>\n",
       "      <th></th>\n",
       "      <th></th>\n",
       "      <th></th>\n",
       "      <th></th>\n",
       "      <th></th>\n",
       "      <th></th>\n",
       "      <th></th>\n",
       "      <th></th>\n",
       "      <th></th>\n",
       "      <th></th>\n",
       "      <th></th>\n",
       "      <th></th>\n",
       "      <th></th>\n",
       "      <th></th>\n",
       "      <th></th>\n",
       "    </tr>\n",
       "  </thead>\n",
       "  <tbody>\n",
       "    <tr>\n",
       "      <th>1999-01-04</th>\n",
       "      <td>1.1789</td>\n",
       "      <td>133.73</td>\n",
       "      <td>NaN</td>\n",
       "      <td>0.58231</td>\n",
       "      <td>35.107</td>\n",
       "      <td>7.4501</td>\n",
       "      <td>15.6466</td>\n",
       "      <td>0.71110</td>\n",
       "      <td>251.48</td>\n",
       "      <td>4.7170</td>\n",
       "      <td>...</td>\n",
       "      <td>NaN</td>\n",
       "      <td>NaN</td>\n",
       "      <td>1398.59</td>\n",
       "      <td>NaN</td>\n",
       "      <td>NaN</td>\n",
       "      <td>2.2229</td>\n",
       "      <td>NaN</td>\n",
       "      <td>1.9554</td>\n",
       "      <td>NaN</td>\n",
       "      <td>6.9358</td>\n",
       "    </tr>\n",
       "    <tr>\n",
       "      <th>1999-01-05</th>\n",
       "      <td>1.1790</td>\n",
       "      <td>130.96</td>\n",
       "      <td>NaN</td>\n",
       "      <td>0.58230</td>\n",
       "      <td>34.917</td>\n",
       "      <td>7.4495</td>\n",
       "      <td>15.6466</td>\n",
       "      <td>0.71220</td>\n",
       "      <td>250.80</td>\n",
       "      <td>4.7174</td>\n",
       "      <td>...</td>\n",
       "      <td>NaN</td>\n",
       "      <td>NaN</td>\n",
       "      <td>1373.01</td>\n",
       "      <td>NaN</td>\n",
       "      <td>NaN</td>\n",
       "      <td>2.2011</td>\n",
       "      <td>NaN</td>\n",
       "      <td>1.9655</td>\n",
       "      <td>NaN</td>\n",
       "      <td>6.7975</td>\n",
       "    </tr>\n",
       "    <tr>\n",
       "      <th>1999-01-06</th>\n",
       "      <td>1.1743</td>\n",
       "      <td>131.42</td>\n",
       "      <td>NaN</td>\n",
       "      <td>0.58200</td>\n",
       "      <td>34.850</td>\n",
       "      <td>7.4452</td>\n",
       "      <td>15.6466</td>\n",
       "      <td>0.70760</td>\n",
       "      <td>250.67</td>\n",
       "      <td>4.6994</td>\n",
       "      <td>...</td>\n",
       "      <td>NaN</td>\n",
       "      <td>NaN</td>\n",
       "      <td>1359.54</td>\n",
       "      <td>NaN</td>\n",
       "      <td>NaN</td>\n",
       "      <td>2.1890</td>\n",
       "      <td>NaN</td>\n",
       "      <td>1.9699</td>\n",
       "      <td>NaN</td>\n",
       "      <td>6.7307</td>\n",
       "    </tr>\n",
       "    <tr>\n",
       "      <th>1999-01-07</th>\n",
       "      <td>1.1632</td>\n",
       "      <td>129.43</td>\n",
       "      <td>NaN</td>\n",
       "      <td>0.58187</td>\n",
       "      <td>34.886</td>\n",
       "      <td>7.4431</td>\n",
       "      <td>15.6466</td>\n",
       "      <td>0.70585</td>\n",
       "      <td>250.09</td>\n",
       "      <td>4.6548</td>\n",
       "      <td>...</td>\n",
       "      <td>NaN</td>\n",
       "      <td>NaN</td>\n",
       "      <td>1337.16</td>\n",
       "      <td>NaN</td>\n",
       "      <td>NaN</td>\n",
       "      <td>2.1531</td>\n",
       "      <td>NaN</td>\n",
       "      <td>1.9436</td>\n",
       "      <td>NaN</td>\n",
       "      <td>6.8283</td>\n",
       "    </tr>\n",
       "    <tr>\n",
       "      <th>1999-01-08</th>\n",
       "      <td>1.1659</td>\n",
       "      <td>130.09</td>\n",
       "      <td>NaN</td>\n",
       "      <td>0.58187</td>\n",
       "      <td>34.938</td>\n",
       "      <td>7.4433</td>\n",
       "      <td>15.6466</td>\n",
       "      <td>0.70940</td>\n",
       "      <td>250.15</td>\n",
       "      <td>4.6643</td>\n",
       "      <td>...</td>\n",
       "      <td>NaN</td>\n",
       "      <td>NaN</td>\n",
       "      <td>1366.73</td>\n",
       "      <td>NaN</td>\n",
       "      <td>NaN</td>\n",
       "      <td>2.1557</td>\n",
       "      <td>NaN</td>\n",
       "      <td>1.9537</td>\n",
       "      <td>NaN</td>\n",
       "      <td>6.7855</td>\n",
       "    </tr>\n",
       "  </tbody>\n",
       "</table>\n",
       "<p>5 rows × 41 columns</p>\n",
       "</div>"
      ],
      "text/plain": [
       "               USD     JPY  BGN      CYP     CZK     DKK      EEK      GBP  \\\n",
       "Date                                                                         \n",
       "1999-01-04  1.1789  133.73  NaN  0.58231  35.107  7.4501  15.6466  0.71110   \n",
       "1999-01-05  1.1790  130.96  NaN  0.58230  34.917  7.4495  15.6466  0.71220   \n",
       "1999-01-06  1.1743  131.42  NaN  0.58200  34.850  7.4452  15.6466  0.70760   \n",
       "1999-01-07  1.1632  129.43  NaN  0.58187  34.886  7.4431  15.6466  0.70585   \n",
       "1999-01-08  1.1659  130.09  NaN  0.58187  34.938  7.4433  15.6466  0.70940   \n",
       "\n",
       "               HUF     LTL  ...  ILS  INR      KRW  MXN  MYR     NZD  PHP  \\\n",
       "Date                        ...                                             \n",
       "1999-01-04  251.48  4.7170  ...  NaN  NaN  1398.59  NaN  NaN  2.2229  NaN   \n",
       "1999-01-05  250.80  4.7174  ...  NaN  NaN  1373.01  NaN  NaN  2.2011  NaN   \n",
       "1999-01-06  250.67  4.6994  ...  NaN  NaN  1359.54  NaN  NaN  2.1890  NaN   \n",
       "1999-01-07  250.09  4.6548  ...  NaN  NaN  1337.16  NaN  NaN  2.1531  NaN   \n",
       "1999-01-08  250.15  4.6643  ...  NaN  NaN  1366.73  NaN  NaN  2.1557  NaN   \n",
       "\n",
       "               SGD  THB     ZAR  \n",
       "Date                             \n",
       "1999-01-04  1.9554  NaN  6.9358  \n",
       "1999-01-05  1.9655  NaN  6.7975  \n",
       "1999-01-06  1.9699  NaN  6.7307  \n",
       "1999-01-07  1.9436  NaN  6.8283  \n",
       "1999-01-08  1.9537  NaN  6.7855  \n",
       "\n",
       "[5 rows x 41 columns]"
      ]
     },
     "execution_count": 88,
     "metadata": {},
     "output_type": "execute_result"
    }
   ],
   "source": [
    "df.head()"
   ]
  },
  {
   "cell_type": "markdown",
   "id": "6ac02a12",
   "metadata": {},
   "source": [
    "The next two questions center around whether we can use the dataset for trend\n",
    "analysis, comparing recent rates against historical data.\n",
    "\n",
    "Given the lack of null values we noted in the earlier section, and the timeseries\n",
    "nature of the data, the answer is **yes, we can investigate historical trends**.\n",
    "\n",
    "Taking EUR to USD as an example, we can see how the latest rate changed vs the\n",
    "day before.\n",
    "\n",
    "We can also check how the average of a 7 and 30 day period compare to the prior period."
   ]
  },
  {
   "cell_type": "code",
   "execution_count": null,
   "id": "01ba0437",
   "metadata": {},
   "outputs": [
    {
     "name": "stdout",
     "output_type": "stream",
     "text": [
      "Latest USD rate change: -0.7027%\n",
      "7d USD rate change: -0.3100%\n",
      "30d USD rate change: -0.0091%\n"
     ]
    }
   ],
   "source": [
    "usd = df.sort_index(ascending=True)['USD']\n",
    "\n",
    "# get windows of 7 and 30 days\n",
    "usd_7d = usd.rolling(window=7, step=7).mean()\n",
    "usd_30d = usd.rolling(window=30, step=30).mean()\n",
    "\n",
    "# get the percentage change of the latest rate compared to the prior period\n",
    "usd_perc_change = (usd.iloc[-1] - usd.iloc[-2]) / usd.iloc[-2] * 100\n",
    "\n",
    "# get the percentage change of the 7d and 30d windows compared to the prior period\n",
    "usd_7d_perc_change = (usd_7d.iloc[-1] - usd_7d.iloc[-2]) / usd_7d.iloc[-2] * 100\n",
    "usd_30d_perc_change = (usd_30d.iloc[-1] - usd_30d.iloc[-2]) / usd_30d.iloc[-2] * 100\n",
    "\n",
    "print(f'Latest USD rate change: {usd_perc_change:.4f}%')\n",
    "print(f'7d USD rate change: {usd_7d_perc_change:.4f}%')\n",
    "print(f'30d USD rate change: {usd_30d_perc_change:.4f}%')"
   ]
  },
  {
   "cell_type": "markdown",
   "id": "23d8647d",
   "metadata": {},
   "source": [
    "It's also simple to accompany the information with a timeseries visualization."
   ]
  },
  {
   "cell_type": "code",
   "execution_count": 95,
   "id": "2ffc0b81",
   "metadata": {},
   "outputs": [
    {
     "data": {
      "text/plain": [
       "<Axes: xlabel='Date', ylabel='USD'>"
      ]
     },
     "execution_count": 95,
     "metadata": {},
     "output_type": "execute_result"
    },
    {
     "data": {
      "image/png": "[encoded data removed]",
      "text/plain": [
       "<Figure size 640x480 with 1 Axes>"
      ]
     },
     "metadata": {},
     "output_type": "display_data"
    }
   ],
   "source": [
    "# plot the latest 60 days of data\n",
    "sns.lineplot(usd.iloc[-60:])"
   ]
  },
  {
   "cell_type": "code",
   "execution_count": null,
   "id": "c14382d8",
   "metadata": {},
   "outputs": [],
   "source": []
  }
 ],
 "metadata": {
  "kernelspec": {
   "display_name": "Python (currency-track)",
   "language": "python",
   "name": "currency-track"
  },
  "language_info": {
   "codemirror_mode": {
    "name": "ipython",
    "version": 3
   },
   "file_extension": ".py",
   "mimetype": "text/x-python",
   "name": "python",
   "nbconvert_exporter": "python",
   "pygments_lexer": "ipython3",
   "version": "3.13.5"
  }
 },
 "nbformat": 4,
 "nbformat_minor": 5
}
